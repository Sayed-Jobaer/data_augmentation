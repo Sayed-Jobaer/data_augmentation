{
 "cells": [
  {
   "cell_type": "code",
   "execution_count": 7,
   "id": "f2af3d8b",
   "metadata": {},
   "outputs": [],
   "source": [
    "import os\n",
    "import numpy as np\n",
    "import tensorflow as tf\n",
    "from tensorflow.keras.preprocessing.image import ImageDataGenerator"
   ]
  },
  {
   "cell_type": "code",
   "execution_count": 8,
   "id": "44cbc4dc",
   "metadata": {},
   "outputs": [],
   "source": [
    "# Define the directory where your images are stored\n",
    "train_dir =  /'data_path'/ #'/home/ubuntu/data/Blur'"
   ]
  },
  {
   "cell_type": "code",
   "execution_count": 9,
   "id": "33253873",
   "metadata": {},
   "outputs": [],
   "source": [
    "# Define the parameters for data augmentation\n",
    "datagen = ImageDataGenerator(\n",
    "    rotation_range=20,        # Rotate images randomly by up to 20 degrees\n",
    "    width_shift_range=0.1,    # Shift images horizontally by up to 10%\n",
    "    height_shift_range=0.1,   # Shift images vertically by up to 10%\n",
    "    shear_range=0.2,          # Apply shear transformation to images\n",
    "    zoom_range=0.2,           # Zoom in and out on images by up to 20%\n",
    "    horizontal_flip=True,     # Flip images horizontally\n",
    "    fill_mode='nearest'       # Fill in any gaps in the images with the nearest pixel\n",
    ")"
   ]
  },
  {
   "cell_type": "code",
   "execution_count": 10,
   "id": "9b2d4b11",
   "metadata": {},
   "outputs": [
    {
     "name": "stdout",
     "output_type": "stream",
     "text": [
      "Found 2011 images belonging to 1 classes.\n"
     ]
    }
   ],
   "source": [
    "# Load the images from the directory and apply data augmentation\n",
    "train_generator = datagen.flow_from_directory(\n",
    "    train_dir,\n",
    "    target_size=(256, 256),\n",
    "    batch_size=32,\n",
    "    class_mode='binary'\n",
    ")\n"
   ]
  },
  {
   "cell_type": "code",
   "execution_count": 11,
   "id": "59b83294",
   "metadata": {},
   "outputs": [],
   "source": [
    "# Create a new directory to store the augmented images\n",
    "augmented_dir =  /'new_data_path'/ #'/home/ubuntu/new_aug_data/Blur'\n",
    "os.makedirs(augmented_dir, exist_ok=True)"
   ]
  },
  {
   "cell_type": "code",
   "execution_count": 12,
   "id": "440716d8",
   "metadata": {},
   "outputs": [],
   "source": [
    "# Generate and save the augmented images\n",
    "i = 0\n",
    "for batch in train_generator:\n",
    "    batch_images, batch_labels = batch\n",
    "    for j in range(len(batch_images)):\n",
    "        img = tf.keras.preprocessing.image.array_to_img(batch_images[j])\n",
    "        img.save(os.path.join(augmented_dir, 'img_{}.jpg'.format(i)))\n",
    "        i += 1\n",
    "    if i >= 10000:   # Generate 2000 new images\n",
    "        break"
   ]
  },
  {
   "cell_type": "code",
   "execution_count": null,
   "id": "6b4ed7dd",
   "metadata": {},
   "outputs": [],
   "source": []
  },
  {
   "cell_type": "code",
   "execution_count": null,
   "id": "e8cd3a49",
   "metadata": {},
   "outputs": [],
   "source": []
  }
 ],
 "metadata": {
  "kernelspec": {
   "display_name": "Python 3 (ipykernel)",
   "language": "python",
   "name": "python3"
  },
  "language_info": {
   "codemirror_mode": {
    "name": "ipython",
    "version": 3
   },
   "file_extension": ".py",
   "mimetype": "text/x-python",
   "name": "python",
   "nbconvert_exporter": "python",
   "pygments_lexer": "ipython3",
   "version": "3.8.16"
  }
 },
 "nbformat": 4,
 "nbformat_minor": 5
}
